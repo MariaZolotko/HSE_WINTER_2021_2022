{
 "cells": [
  {
   "cell_type": "markdown",
   "metadata": {},
   "source": [
    "# Простейшие нейронные сети с Keras\n",
    "\n",
    "\n",
    "Одним из фрэймворком для обучения нейросеток на нашем курсе будет Tensorflow. Сейчас актуальна вторая версия фраемворка, которая глобально отличается от первой./ \n",
    "\n",
    "Одна из особенностей новой версии заключается в том, что Keras (раньше он был посторонней библиотекой-надстройкой) фактически [стал частью tensorflow.](https://www.tensorflow.org/guide/keras?hl=ru)  \n",
    "\n",
    "Изначально Keras создавался как высокоуровневое API для theano (это когда написали кучу функций один раз, красиво их назвали и завернули в пакет). Потом он начал поддерживать tensorflow, а сейчас вот чуть ли ни аннексия произошла. __Keras наш.__ Именно со знакомства с ним мы и начнём наше погружение в нейросетки.  \n",
    "\n",
    "Чтобы установить библиотеку, отправляйтесь в консоль и пропишите \n",
    "\n",
    "```\n",
    "pip install tensorflow\n",
    "```\n",
    "\n",
    "Если вы до этого сидели на старой версии tensorflow, на всякий случай снесите её. Иначе при установке могут возникнуть какие-нибудь несовместимости и ошибки."
   ]
  },
  {
   "cell_type": "code",
   "execution_count": 57,
   "metadata": {},
   "outputs": [],
   "source": [
    "import warnings\n",
    "warnings.filterwarnings(\"ignore\")"
   ]
  },
  {
   "cell_type": "code",
   "execution_count": 58,
   "metadata": {},
   "outputs": [
    {
     "name": "stdout",
     "output_type": "stream",
     "text": [
      "2.1.0\n"
     ]
    }
   ],
   "source": [
    "# Подгружаем tensorflow \n",
    "import tensorflow as tf\n",
    "import tensorflow.keras as keras\n",
    "\n",
    "\n",
    "print(tf.__version__)\n"
   ]
  },
  {
   "cell_type": "code",
   "execution_count": 59,
   "metadata": {},
   "outputs": [],
   "source": [
    "# Подгрузим ещё немного пакетов :) \n",
    "import numpy as np\n",
    "import pandas as pd\n",
    "\n",
    "import seaborn as sns\n",
    "import matplotlib.pyplot as plt\n",
    "plt.style.use('ggplot')\n",
    "\n",
    "%matplotlib inline"
   ]
  },
  {
   "cell_type": "markdown",
   "metadata": {},
   "source": [
    "## 1. О данных и бэйзлайнах\n",
    "\n",
    "Наша главная цель - как следует потрогать Keras своими ручищами. Мы хотим увидеть, что он реально позволяет обращаться с нейронками как с конструктором LEGO и предлагает нам для сборки башен кучу деталей. \n",
    "\n",
    "__Делать всё это мы будем на животных.__ Ежегодно около 7.6 миллионов бедных животных в США оказываются в приютах. Часть из них находит себе новую семью, часть возвращается к старому (бывает, что питомец потерялся и его нашли на улице), а часть погибает. Ужегодно усыпляется около 2.7 млн. собак и кошек.  \n",
    "\n",
    "Используя датасет с входной информацией (цвет, пол, возраст и т.п.) из одного из приютов, мы попытаемся спрогнозировать что произойдёт с новыми животными, которые попадут в этот приют. Данные, используемые в тетрадке уже были предварительно обработаны и приведены в удобную для построения моделей форму. "
   ]
  },
  {
   "cell_type": "code",
   "execution_count": 60,
   "metadata": {},
   "outputs": [
    {
     "name": "stdout",
     "output_type": "stream",
     "text": [
      "(26729, 37)\n"
     ]
    },
    {
     "data": {
      "text/html": [
       "<div>\n",
       "<style scoped>\n",
       "    .dataframe tbody tr th:only-of-type {\n",
       "        vertical-align: middle;\n",
       "    }\n",
       "\n",
       "    .dataframe tbody tr th {\n",
       "        vertical-align: top;\n",
       "    }\n",
       "\n",
       "    .dataframe thead th {\n",
       "        text-align: right;\n",
       "    }\n",
       "</style>\n",
       "<table border=\"1\" class=\"dataframe\">\n",
       "  <thead>\n",
       "    <tr style=\"text-align: right;\">\n",
       "      <th></th>\n",
       "      <th>IsDog</th>\n",
       "      <th>Age</th>\n",
       "      <th>HasName</th>\n",
       "      <th>NameLength</th>\n",
       "      <th>NameFreq</th>\n",
       "      <th>MixColor</th>\n",
       "      <th>ColorFreqAsIs</th>\n",
       "      <th>ColorFreqBase</th>\n",
       "      <th>TabbyColor</th>\n",
       "      <th>MixBreed</th>\n",
       "      <th>...</th>\n",
       "      <th>SexStatus_Flawed</th>\n",
       "      <th>SexStatus_Intact</th>\n",
       "      <th>SexStatus_Unknown</th>\n",
       "      <th>Weekday_0</th>\n",
       "      <th>Weekday_1</th>\n",
       "      <th>Weekday_2</th>\n",
       "      <th>Weekday_3</th>\n",
       "      <th>Weekday_4</th>\n",
       "      <th>Weekday_5</th>\n",
       "      <th>Weekday_6</th>\n",
       "    </tr>\n",
       "  </thead>\n",
       "  <tbody>\n",
       "    <tr>\n",
       "      <th>0</th>\n",
       "      <td>1</td>\n",
       "      <td>365.0</td>\n",
       "      <td>1</td>\n",
       "      <td>7</td>\n",
       "      <td>0.000157</td>\n",
       "      <td>1</td>\n",
       "      <td>0.032919</td>\n",
       "      <td>0.463624</td>\n",
       "      <td>0</td>\n",
       "      <td>1</td>\n",
       "      <td>...</td>\n",
       "      <td>1</td>\n",
       "      <td>0</td>\n",
       "      <td>0</td>\n",
       "      <td>0</td>\n",
       "      <td>0</td>\n",
       "      <td>1</td>\n",
       "      <td>0</td>\n",
       "      <td>0</td>\n",
       "      <td>0</td>\n",
       "      <td>0</td>\n",
       "    </tr>\n",
       "    <tr>\n",
       "      <th>1</th>\n",
       "      <td>0</td>\n",
       "      <td>365.0</td>\n",
       "      <td>1</td>\n",
       "      <td>5</td>\n",
       "      <td>0.000655</td>\n",
       "      <td>0</td>\n",
       "      <td>0.008092</td>\n",
       "      <td>0.015005</td>\n",
       "      <td>1</td>\n",
       "      <td>1</td>\n",
       "      <td>...</td>\n",
       "      <td>1</td>\n",
       "      <td>0</td>\n",
       "      <td>0</td>\n",
       "      <td>0</td>\n",
       "      <td>0</td>\n",
       "      <td>0</td>\n",
       "      <td>0</td>\n",
       "      <td>0</td>\n",
       "      <td>0</td>\n",
       "      <td>1</td>\n",
       "    </tr>\n",
       "    <tr>\n",
       "      <th>2</th>\n",
       "      <td>1</td>\n",
       "      <td>730.0</td>\n",
       "      <td>1</td>\n",
       "      <td>6</td>\n",
       "      <td>0.000052</td>\n",
       "      <td>1</td>\n",
       "      <td>0.026293</td>\n",
       "      <td>0.357521</td>\n",
       "      <td>0</td>\n",
       "      <td>1</td>\n",
       "      <td>...</td>\n",
       "      <td>1</td>\n",
       "      <td>0</td>\n",
       "      <td>0</td>\n",
       "      <td>0</td>\n",
       "      <td>0</td>\n",
       "      <td>0</td>\n",
       "      <td>0</td>\n",
       "      <td>0</td>\n",
       "      <td>1</td>\n",
       "      <td>0</td>\n",
       "    </tr>\n",
       "    <tr>\n",
       "      <th>3</th>\n",
       "      <td>0</td>\n",
       "      <td>21.0</td>\n",
       "      <td>0</td>\n",
       "      <td>7</td>\n",
       "      <td>0.285871</td>\n",
       "      <td>0</td>\n",
       "      <td>0.000471</td>\n",
       "      <td>0.058418</td>\n",
       "      <td>0</td>\n",
       "      <td>1</td>\n",
       "      <td>...</td>\n",
       "      <td>0</td>\n",
       "      <td>1</td>\n",
       "      <td>0</td>\n",
       "      <td>0</td>\n",
       "      <td>0</td>\n",
       "      <td>0</td>\n",
       "      <td>0</td>\n",
       "      <td>1</td>\n",
       "      <td>0</td>\n",
       "      <td>0</td>\n",
       "    </tr>\n",
       "    <tr>\n",
       "      <th>4</th>\n",
       "      <td>1</td>\n",
       "      <td>730.0</td>\n",
       "      <td>0</td>\n",
       "      <td>7</td>\n",
       "      <td>0.285871</td>\n",
       "      <td>0</td>\n",
       "      <td>0.023831</td>\n",
       "      <td>0.075353</td>\n",
       "      <td>0</td>\n",
       "      <td>0</td>\n",
       "      <td>...</td>\n",
       "      <td>1</td>\n",
       "      <td>0</td>\n",
       "      <td>0</td>\n",
       "      <td>0</td>\n",
       "      <td>0</td>\n",
       "      <td>0</td>\n",
       "      <td>0</td>\n",
       "      <td>1</td>\n",
       "      <td>0</td>\n",
       "      <td>0</td>\n",
       "    </tr>\n",
       "  </tbody>\n",
       "</table>\n",
       "<p>5 rows × 37 columns</p>\n",
       "</div>"
      ],
      "text/plain": [
       "   IsDog    Age  HasName  NameLength  NameFreq  MixColor  ColorFreqAsIs  \\\n",
       "0      1  365.0        1           7  0.000157         1       0.032919   \n",
       "1      0  365.0        1           5  0.000655         0       0.008092   \n",
       "2      1  730.0        1           6  0.000052         1       0.026293   \n",
       "3      0   21.0        0           7  0.285871         0       0.000471   \n",
       "4      1  730.0        0           7  0.285871         0       0.023831   \n",
       "\n",
       "   ColorFreqBase  TabbyColor  MixBreed  ...  SexStatus_Flawed  \\\n",
       "0       0.463624           0         1  ...                 1   \n",
       "1       0.015005           1         1  ...                 1   \n",
       "2       0.357521           0         1  ...                 1   \n",
       "3       0.058418           0         1  ...                 0   \n",
       "4       0.075353           0         0  ...                 1   \n",
       "\n",
       "   SexStatus_Intact  SexStatus_Unknown  Weekday_0  Weekday_1  Weekday_2  \\\n",
       "0                 0                  0          0          0          1   \n",
       "1                 0                  0          0          0          0   \n",
       "2                 0                  0          0          0          0   \n",
       "3                 1                  0          0          0          0   \n",
       "4                 0                  0          0          0          0   \n",
       "\n",
       "   Weekday_3  Weekday_4  Weekday_5  Weekday_6  \n",
       "0          0          0          0          0  \n",
       "1          0          0          0          1  \n",
       "2          0          0          1          0  \n",
       "3          0          1          0          0  \n",
       "4          0          1          0          0  \n",
       "\n",
       "[5 rows x 37 columns]"
      ]
     },
     "execution_count": 60,
     "metadata": {},
     "output_type": "execute_result"
    }
   ],
   "source": [
    "X = pd.read_csv('data/X_cat.csv', sep = '\\t', index_col=0)\n",
    "target = pd.read_csv('data/y_cat.csv', sep = '\\t', index_col=0, names=['status'])\n",
    "\n",
    "print(X.shape)\n",
    "X.head()"
   ]
  },
  {
   "cell_type": "markdown",
   "metadata": {},
   "source": [
    "В датасете находится около 27 тысяч наблюдений и 39 регрессоров. Посмотрим на то как выглядит распределение того, что произошло со зверятами по особям."
   ]
  },
  {
   "cell_type": "code",
   "execution_count": 5,
   "metadata": {},
   "outputs": [
    {
     "data": {
      "text/plain": [
       "Adoption           10769\n",
       "Transfer            9422\n",
       "Return_to_owner     4786\n",
       "Euthanasia          1555\n",
       "Died                 197\n",
       "Name: status, dtype: int64"
      ]
     },
     "execution_count": 5,
     "metadata": {},
     "output_type": "execute_result"
    }
   ],
   "source": [
    "target.status.value_counts()"
   ]
  },
  {
   "cell_type": "markdown",
   "metadata": {},
   "source": [
    "Видим, что классы несбалансированы. Попробуем оставит четыре класса и объединить класс умерших животных с классом животных, которых усыпили. "
   ]
  },
  {
   "cell_type": "code",
   "execution_count": 65,
   "metadata": {},
   "outputs": [],
   "source": [
    "target = target.values\n",
    "target[target == 'Died'] = 'Euthanasia'"
   ]
  },
  {
   "cell_type": "markdown",
   "metadata": {},
   "source": [
    "Закодируем классы."
   ]
  },
  {
   "cell_type": "code",
   "execution_count": 66,
   "metadata": {},
   "outputs": [
    {
     "data": {
      "text/plain": [
       "array([2, 1, 0, ..., 0, 3, 3])"
      ]
     },
     "execution_count": 66,
     "metadata": {},
     "output_type": "execute_result"
    }
   ],
   "source": [
    "from sklearn.preprocessing import LabelEncoder\n",
    "le = LabelEncoder()\n",
    "y = le.fit_transform(target)\n",
    "y"
   ]
  },
  {
   "cell_type": "code",
   "execution_count": 67,
   "metadata": {},
   "outputs": [
    {
     "data": {
      "text/plain": [
       "26729"
      ]
     },
     "execution_count": 67,
     "metadata": {},
     "output_type": "execute_result"
    }
   ],
   "source": [
    "len(y)"
   ]
  },
  {
   "cell_type": "code",
   "execution_count": 68,
   "metadata": {},
   "outputs": [
    {
     "data": {
      "text/plain": [
       "(26729, 37)"
      ]
     },
     "execution_count": 68,
     "metadata": {},
     "output_type": "execute_result"
    }
   ],
   "source": [
    "X.shape"
   ]
  },
  {
   "cell_type": "markdown",
   "metadata": {},
   "source": [
    "Разобьём выборку на тренировочную и тестовую. "
   ]
  },
  {
   "cell_type": "code",
   "execution_count": 70,
   "metadata": {},
   "outputs": [
    {
     "name": "stdout",
     "output_type": "stream",
     "text": [
      "(21383, 37)\n",
      "(5346, 37)\n"
     ]
    }
   ],
   "source": [
    "from sklearn.model_selection import train_test_split\n",
    "\n",
    "X_train, X_test, y_train, y_test = train_test_split(X, y, test_size=0.2, stratify = y, random_state = 42)\n",
    "\n",
    "print(X_train.shape)\n",
    "print(X_test.shape)"
   ]
  },
  {
   "cell_type": "markdown",
   "metadata": {},
   "source": [
    "Прежде, чем учить 228-слойных монстров, давайте построим какие-нибудь простые прогнозы, чтобы было с чем сравнить. Давайте построи наивный прогноз, а также обучим линейную регрессию и случайный лес.\n",
    "\n",
    "### Константный прогноз\n",
    "\n",
    "Построим константный прогноз, чтобы было с чем сравнивать и прогноз по какой-нибудь модели. "
   ]
  },
  {
   "cell_type": "code",
   "execution_count": 71,
   "metadata": {},
   "outputs": [
    {
     "data": {
      "text/plain": [
       "array([0.40289015, 0.0655661 , 0.17906748, 0.35247627])"
      ]
     },
     "execution_count": 71,
     "metadata": {},
     "output_type": "execute_result"
    }
   ],
   "source": [
    "from sklearn.metrics import log_loss\n",
    "\n",
    "probas = np.array(pd.Series(y_train).value_counts(normalize=True).sort_index().tolist())\n",
    "probas"
   ]
  },
  {
   "cell_type": "code",
   "execution_count": 72,
   "metadata": {},
   "outputs": [
    {
     "data": {
      "text/plain": [
       "1.2202552496487795"
      ]
     },
     "execution_count": 72,
     "metadata": {},
     "output_type": "execute_result"
    }
   ],
   "source": [
    "log_loss(y_test, np.tile(probas, X_test.shape[0]).reshape(X_test.shape[0], 4))"
   ]
  },
  {
   "cell_type": "markdown",
   "metadata": {},
   "source": [
    "### Логистическая регрессия"
   ]
  },
  {
   "cell_type": "code",
   "execution_count": 73,
   "metadata": {},
   "outputs": [
    {
     "data": {
      "text/plain": [
       "1.0690587863190273"
      ]
     },
     "execution_count": 73,
     "metadata": {},
     "output_type": "execute_result"
    }
   ],
   "source": [
    "from sklearn.linear_model import LogisticRegression\n",
    "\n",
    "logreg = LogisticRegression( )\n",
    "logreg.fit(X_train, y_train)\n",
    "log_loss(y_test, logreg.predict_proba(X_test))"
   ]
  },
  {
   "cell_type": "code",
   "execution_count": 14,
   "metadata": {},
   "outputs": [
    {
     "data": {
      "text/plain": [
       "array([[0.1870862 , 0.06705324, 0.04653627, 0.69932429],\n",
       "       [0.71548592, 0.0292332 , 0.1084322 , 0.14684869],\n",
       "       [0.52376252, 0.0380986 , 0.18068917, 0.2574497 ],\n",
       "       ...,\n",
       "       [0.77510013, 0.01024927, 0.17602245, 0.03862815],\n",
       "       [0.22847272, 0.05774152, 0.03826588, 0.67551988],\n",
       "       [0.66540863, 0.03012066, 0.12082804, 0.18364266]])"
      ]
     },
     "execution_count": 14,
     "metadata": {},
     "output_type": "execute_result"
    }
   ],
   "source": [
    "logreg.predict_proba(X_test) # 4 колонки, по одной на каждый класс"
   ]
  },
  {
   "cell_type": "markdown",
   "metadata": {},
   "source": [
    "### Случайный лес "
   ]
  },
  {
   "cell_type": "code",
   "execution_count": 74,
   "metadata": {
    "scrolled": true
   },
   "outputs": [
    {
     "data": {
      "text/plain": [
       "0.7616365019258776"
      ]
     },
     "execution_count": 74,
     "metadata": {},
     "output_type": "execute_result"
    }
   ],
   "source": [
    "from sklearn.ensemble import RandomForestClassifier\n",
    "\n",
    "rf = RandomForestClassifier(n_estimators=1000, n_jobs=3)\n",
    "rf.fit(X_train, y_train)\n",
    "log_loss(y_test, rf.predict_proba(X_test))"
   ]
  },
  {
   "cell_type": "markdown",
   "metadata": {},
   "source": [
    "Неплохой результат. Попробуем улучшить его с помошью нейросеток. "
   ]
  },
  {
   "cell_type": "markdown",
   "metadata": {},
   "source": [
    "## 2. Собираем свою нейросеть"
   ]
  },
  {
   "cell_type": "code",
   "execution_count": 16,
   "metadata": {},
   "outputs": [],
   "source": [
    "from tensorflow.keras import layers as L         # Уже готовые слои для моделей\n",
    "from tensorflow.keras.models import Sequential   # Специальный класс для склеивания слоёв\n",
    "from tensorflow.keras.models import Model        # Альтернативный класс для склейки слоёв\n",
    "import tensorflow.keras.optimizers as opt        # Разные оптимизационные алгоритмы :3 "
   ]
  },
  {
   "cell_type": "markdown",
   "metadata": {},
   "source": [
    "Модель в Keras собирается как конструктор LEGO. Её можно описать двумя основными способами. Первый — последовательное описание модели. В его случае мы как бы создаём коробочку `model` и постепенно добавляем туда детальки нашей сетки. "
   ]
  },
  {
   "cell_type": "raw",
   "metadata": {},
   "source": [
    "model = Sequential()                             # создали контейнер для модели\n",
    "model.add(layers.Dense(128, input_shape=(20,)))  # слой из 128 нейронов, вход 20 регрессоров\n",
    "model.add(layers.Activation('relu'))             # функция активации\n",
    "model.add(layers.Dropout(0.5))                   # дропаут с вероятностью 0.5 \n",
    "model.add(layers.Dense(1))                       # полносвязный слой с одним нейроном, то есть выходом"
   ]
  },
  {
   "cell_type": "markdown",
   "metadata": {},
   "source": [
    "Второй способ - описать модель функционально, в явном виде прописав какие аргументы идут на вход какому слою. "
   ]
  },
  {
   "cell_type": "raw",
   "metadata": {},
   "source": [
    "a = Input(shape=(20,))                # Первая заглушка для входа \n",
    "b = layers.Dense(128)(a)              # Применяем ко входу полносвязный слой как функцию\n",
    "b = layers.Activation('relu')(b)      # Теперь к тому, что получилось функцию активации\n",
    "b = layers.Dropout(0.5)(b)            # Ну и так далее... \n",
    "b = layers.Dense(1)(b)\n",
    "\n",
    "model = Model(inputs=a, outputs=b)    # указываем что вход, а что выход, склеивая модель"
   ]
  },
  {
   "cell_type": "markdown",
   "metadata": {},
   "source": [
    "Когда мы будем строить сложные модели с кучей разветвлений, для нас будет удобным второй способ. Для простых ситуаций вроде текущей, можете пользоваться первым. \n",
    "\n",
    "Давайте соберём небольшую нейронку. Давайте сделаем в ней вот такую архитектуру: "
   ]
  },
  {
   "cell_type": "code",
   "execution_count": 106,
   "metadata": {},
   "outputs": [],
   "source": [
    "from tensorflow.keras.metrics import Accuracy\n",
    "\n",
    "def get_new_model( ):\n",
    "    acc = Accuracy()\n",
    "\n",
    "    ###########################################################\n",
    "    # Ваш код! \n",
    "    model = Sequential(name = 'Archibald')  # модели можно дать имя!\n",
    "    \n",
    "    # Добавляем в нашу модель первый слой из 25 нейронов\n",
    "    model.add(L.Dense(25, input_dim = X_train.shape[1], kernel_initializer='random_normal'))\n",
    "\n",
    "    # Добавляем функцию активации на первый слой \n",
    "    model.add(L.Activation('sigmoid'))\n",
    "\n",
    "    # Добавляем ещё один слой из 25 нейронов\n",
    "    model.add(L.Dense(25, kernel_initializer='random_normal'))\n",
    "    model.add(L.Activation('sigmoid'))\n",
    "\n",
    "    # На выходе мы должны получить вероятности того, что объект относится к разным классам \n",
    "    # Сделать такое преобразование позволяет softmax как функция активации\n",
    "    # На выход будет идти 4 вероятности по числу классов\n",
    "    model.add(L.Dense(4, activation='softmax', kernel_initializer = 'random_normal'))\n",
    "    \n",
    "    ###########################################################\n",
    "    \n",
    "    # В качестве оптимизации будем использовать Adam\n",
    "    # Это такой специальный градиентный спуск, обсудим его в следущий раз\n",
    "    optimizer = opt.Adam(lr=1e-3)\n",
    "\n",
    "    # Собираем модель\n",
    "    model.compile(loss = 'categorical_crossentropy', \n",
    "                  metrics=['acc'], \n",
    "                  optimizer=optimizer)\n",
    "    \n",
    "    return model"
   ]
  },
  {
   "cell_type": "markdown",
   "metadata": {},
   "source": [
    "Перед тем как обучать нашу нейросеть, нужно задать параметры обучения. Во-первых, метод оптимизации. Во-вторых, функцию потерь. В-третьих, парочку метрик, на которые нам хотелось бы смотреть в процессе обучения.  Для этого есть метод `compile`. "
   ]
  },
  {
   "cell_type": "code",
   "execution_count": 107,
   "metadata": {},
   "outputs": [],
   "source": [
    "model = get_new_model( )"
   ]
  },
  {
   "cell_type": "markdown",
   "metadata": {},
   "source": [
    "Итак, только что мы собрали свою первую нейросеть со скрытым слоем.   Посмотрим сколько параметров нам предстоит оценить. "
   ]
  },
  {
   "cell_type": "code",
   "execution_count": 108,
   "metadata": {},
   "outputs": [
    {
     "name": "stdout",
     "output_type": "stream",
     "text": [
      "Model: \"Archibald\"\n",
      "_________________________________________________________________\n",
      "Layer (type)                 Output Shape              Param #   \n",
      "=================================================================\n",
      "dense_39 (Dense)             (None, 25)                950       \n",
      "_________________________________________________________________\n",
      "activation_26 (Activation)   (None, 25)                0         \n",
      "_________________________________________________________________\n",
      "dense_40 (Dense)             (None, 25)                650       \n",
      "_________________________________________________________________\n",
      "activation_27 (Activation)   (None, 25)                0         \n",
      "_________________________________________________________________\n",
      "dense_41 (Dense)             (None, 4)                 104       \n",
      "=================================================================\n",
      "Total params: 1,704\n",
      "Trainable params: 1,704\n",
      "Non-trainable params: 0\n",
      "_________________________________________________________________\n"
     ]
    }
   ],
   "source": [
    "model.summary()"
   ]
  },
  {
   "cell_type": "markdown",
   "metadata": {},
   "source": [
    "Видим, что нужно оценить огромное количество параметров. На оценку каждого параметра придётся совсем маленькое количество наблюдений. "
   ]
  },
  {
   "cell_type": "code",
   "execution_count": 94,
   "metadata": {},
   "outputs": [
    {
     "data": {
      "text/plain": [
       "12.548708920187794"
      ]
     },
     "execution_count": 94,
     "metadata": {},
     "output_type": "execute_result"
    }
   ],
   "source": [
    "X_train.shape[0]/1704"
   ]
  },
  {
   "cell_type": "markdown",
   "metadata": {},
   "source": [
    "Отлично! Модель собрана. Осталось её обучить. Метод `fit` позволяет сделать это. Он принимает на вход обучающую выборку `X_train, y_train`. Параметр  `batch_size` это  размер батча. Этот параметр ограничивает количество примеров, которое за раз подаётся в нашу нейронную сеть. Количиство эпох для обучения, `epochs` - это число проходов модели по обучающей выборке. \n",
    "\n",
    "Обычно нейросетки обучаются довольно долго. В связи с этим обучать их на различных фолдах и оценивать качество работы модели на кросс-валидации не очень быстрое занятие, которое себе может позволить далеко не каждый. Для проверки качества обычно внутри обучения с помощью параметра `validation_split` часть выборки оставляют под валидацию, которая осуществляется после каждой эпохи. Как только качество на валидации начнёт падать, это будет означать, что модель переобучилаcь. \n",
    "\n",
    "Всё, что будет нам возвращать метод `.fit`, мы запишем в переменную `hist`. После обученя модели там окажется вся история ошибок на каждом шаге обучения. Отключить сообщения о том, на каком этапе обучения в данный момент находится модель, можно с параметром `verbose = 0`. Переменную $y$ для успешного обучения сетки нужно будет перевести в матрицу из дамми-переменных с помощью команды `to_categorical`. "
   ]
  },
  {
   "cell_type": "code",
   "execution_count": 89,
   "metadata": {},
   "outputs": [
    {
     "data": {
      "text/plain": [
       "array([[0., 0., 1., 0.],\n",
       "       [0., 1., 0., 0.],\n",
       "       [1., 0., 0., 0.],\n",
       "       ...,\n",
       "       [1., 0., 0., 0.],\n",
       "       [0., 0., 0., 1.],\n",
       "       [0., 0., 0., 1.]], dtype=float32)"
      ]
     },
     "execution_count": 89,
     "metadata": {},
     "output_type": "execute_result"
    }
   ],
   "source": [
    "from tensorflow.keras.utils import to_categorical\n",
    "to_categorical(y)"
   ]
  },
  {
   "cell_type": "code",
   "execution_count": 109,
   "metadata": {},
   "outputs": [
    {
     "name": "stdout",
     "output_type": "stream",
     "text": [
      "Train on 17106 samples, validate on 4277 samples\n",
      "Epoch 1/30\n",
      "17106/17106 [==============================] - 2s 105us/sample - loss: 1.1905 - acc: 0.4034 - val_loss: 1.1429 - val_acc: 0.4199\n",
      "Epoch 2/30\n",
      "17106/17106 [==============================] - 1s 83us/sample - loss: 1.1439 - acc: 0.4189 - val_loss: 1.1377 - val_acc: 0.4199\n",
      "Epoch 3/30\n",
      "17106/17106 [==============================] - 1s 87us/sample - loss: 1.1405 - acc: 0.4187 - val_loss: 1.1368 - val_acc: 0.4007\n",
      "Epoch 4/30\n",
      "17106/17106 [==============================] - 2s 89us/sample - loss: 1.1461 - acc: 0.4193 - val_loss: 1.1424 - val_acc: 0.4150\n",
      "Epoch 5/30\n",
      "17106/17106 [==============================] - 1s 85us/sample - loss: 1.1445 - acc: 0.4172 - val_loss: 1.1401 - val_acc: 0.4159\n",
      "Epoch 6/30\n",
      "17106/17106 [==============================] - 1s 84us/sample - loss: 1.1419 - acc: 0.4208 - val_loss: 1.1428 - val_acc: 0.4159\n",
      "Epoch 7/30\n",
      "17106/17106 [==============================] - 1s 82us/sample - loss: 1.1405 - acc: 0.4197 - val_loss: 1.1364 - val_acc: 0.4199\n",
      "Epoch 8/30\n",
      "17106/17106 [==============================] - 1s 83us/sample - loss: 1.1388 - acc: 0.4200 - val_loss: 1.1364 - val_acc: 0.4171\n",
      "Epoch 9/30\n",
      "17106/17106 [==============================] - 1s 80us/sample - loss: 1.1373 - acc: 0.4206 - val_loss: 1.1351 - val_acc: 0.4204\n",
      "Epoch 10/30\n",
      "17106/17106 [==============================] - 2s 101us/sample - loss: 1.1360 - acc: 0.4200 - val_loss: 1.1456 - val_acc: 0.4199\n",
      "Epoch 11/30\n",
      "17106/17106 [==============================] - 2s 90us/sample - loss: 1.1362 - acc: 0.4317 - val_loss: 1.1342 - val_acc: 0.4199\n",
      "Epoch 12/30\n",
      "17106/17106 [==============================] - 2s 104us/sample - loss: 1.1366 - acc: 0.4186 - val_loss: 1.1336 - val_acc: 0.4078\n",
      "Epoch 13/30\n",
      "17106/17106 [==============================] - 1s 82us/sample - loss: 1.1367 - acc: 0.4196 - val_loss: 1.1330 - val_acc: 0.4199\n",
      "Epoch 14/30\n",
      "17106/17106 [==============================] - 1s 85us/sample - loss: 1.1371 - acc: 0.4197 - val_loss: 1.1359 - val_acc: 0.4171\n",
      "Epoch 15/30\n",
      "17106/17106 [==============================] - 1s 83us/sample - loss: 1.1383 - acc: 0.4214 - val_loss: 1.1331 - val_acc: 0.4190\n",
      "Epoch 16/30\n",
      "17106/17106 [==============================] - 1s 83us/sample - loss: 1.1374 - acc: 0.4223 - val_loss: 1.1401 - val_acc: 0.4064\n",
      "Epoch 17/30\n",
      "17106/17106 [==============================] - 1s 82us/sample - loss: 1.1433 - acc: 0.4080 - val_loss: 1.1387 - val_acc: 0.3963\n",
      "Epoch 18/30\n",
      "17106/17106 [==============================] - 1s 82us/sample - loss: 1.1430 - acc: 0.4085 - val_loss: 1.1370 - val_acc: 0.3982\n",
      "Epoch 19/30\n",
      "17106/17106 [==============================] - 2s 104us/sample - loss: 1.1433 - acc: 0.4586 - val_loss: 1.1538 - val_acc: 0.4159\n",
      "Epoch 20/30\n",
      "17106/17106 [==============================] - 2s 92us/sample - loss: 1.1531 - acc: 0.4180 - val_loss: 1.1398 - val_acc: 0.4152\n",
      "Epoch 21/30\n",
      "17106/17106 [==============================] - 2s 91us/sample - loss: 1.1434 - acc: 0.4188 - val_loss: 1.1419 - val_acc: 0.4159\n",
      "Epoch 22/30\n",
      "17106/17106 [==============================] - 2s 97us/sample - loss: 1.1543 - acc: 0.4121 - val_loss: 1.1540 - val_acc: 0.4159\n",
      "Epoch 23/30\n",
      "17106/17106 [==============================] - 1s 87us/sample - loss: 1.1577 - acc: 0.4177 - val_loss: 1.1565 - val_acc: 0.4159\n",
      "Epoch 24/30\n",
      "17106/17106 [==============================] - 1s 83us/sample - loss: 1.1583 - acc: 0.4158 - val_loss: 1.1543 - val_acc: 0.4073\n",
      "Epoch 25/30\n",
      "17106/17106 [==============================] - 1s 83us/sample - loss: 1.1579 - acc: 0.4096 - val_loss: 1.1569 - val_acc: 0.4073\n",
      "Epoch 26/30\n",
      "17106/17106 [==============================] - 1s 83us/sample - loss: 1.1575 - acc: 0.4151 - val_loss: 1.1551 - val_acc: 0.4073\n",
      "Epoch 27/30\n",
      "17106/17106 [==============================] - 1s 83us/sample - loss: 1.1571 - acc: 0.4196 - val_loss: 1.1564 - val_acc: 0.4101\n",
      "Epoch 28/30\n",
      "17106/17106 [==============================] - 1s 83us/sample - loss: 1.1574 - acc: 0.4151 - val_loss: 1.1548 - val_acc: 0.4073\n",
      "Epoch 29/30\n",
      "17106/17106 [==============================] - 2s 99us/sample - loss: 1.1573 - acc: 0.4118 - val_loss: 1.1556 - val_acc: 0.4073\n",
      "Epoch 30/30\n",
      "17106/17106 [==============================] - 2s 92us/sample - loss: 1.1434 - acc: 0.4118 - val_loss: 1.1416 - val_acc: 0.4101\n"
     ]
    }
   ],
   "source": [
    "# Попробуйте переключить verbose = 1 и будет чудо!\n",
    "hist = model.fit(X_train, to_categorical(y_train), validation_split=0.2, epochs=30, verbose=1)"
   ]
  },
  {
   "cell_type": "code",
   "execution_count": 99,
   "metadata": {},
   "outputs": [],
   "source": [
    "preds = model.predict_classes(X_train)"
   ]
  },
  {
   "cell_type": "code",
   "execution_count": 98,
   "metadata": {},
   "outputs": [],
   "source": [
    "acc = Accuracy()"
   ]
  },
  {
   "cell_type": "code",
   "execution_count": 102,
   "metadata": {},
   "outputs": [
    {
     "data": {
      "text/plain": [
       "<tf.Tensor: shape=(), dtype=float32, numpy=0.42220455>"
      ]
     },
     "execution_count": 102,
     "metadata": {},
     "output_type": "execute_result"
    }
   ],
   "source": [
    "acc(preds,y_train)"
   ]
  },
  {
   "cell_type": "markdown",
   "metadata": {},
   "source": [
    "Возвращает этот метод history — это история ошибок на каждом шаге обучения. Посмотрим на динамику ошибок нашей модели во времени. "
   ]
  },
  {
   "cell_type": "code",
   "execution_count": 110,
   "metadata": {},
   "outputs": [
    {
     "data": {
      "text/plain": [
       "<matplotlib.legend.Legend at 0x1ff6cca5248>"
      ]
     },
     "execution_count": 110,
     "metadata": {},
     "output_type": "execute_result"
    },
    {
     "data": {
      "image/png": "[encoded data removed]",
      "text/plain": [
       "<Figure size 432x288 with 1 Axes>"
      ]
     },
     "metadata": {
      "needs_background": "light"
     },
     "output_type": "display_data"
    }
   ],
   "source": [
    "start = 1\n",
    "plt.plot(hist.history['loss'][start:])\n",
    "plt.plot(hist.history['val_loss'][start:])\n",
    "plt.legend(['Train loss', 'Validation loss'])"
   ]
  },
  {
   "cell_type": "code",
   "execution_count": 24,
   "metadata": {},
   "outputs": [
    {
     "data": {
      "text/plain": [
       "array([[0.89833105, 0.00459382, 0.01913974, 0.07793543],\n",
       "       [0.5313073 , 0.03641751, 0.2036863 , 0.22858891],\n",
       "       [0.52576673, 0.03012835, 0.03342349, 0.4106814 ],\n",
       "       ...,\n",
       "       [0.5316605 , 0.03636981, 0.20363064, 0.22833903],\n",
       "       [0.8604444 , 0.00680492, 0.02235627, 0.11039438],\n",
       "       [0.9074752 , 0.00408168, 0.01822948, 0.07021367]], dtype=float32)"
      ]
     },
     "execution_count": 24,
     "metadata": {},
     "output_type": "execute_result"
    }
   ],
   "source": [
    "# Можно предсказать вероятности для тестовой выборки\n",
    "model.predict_proba(X_test)"
   ]
  },
  {
   "cell_type": "code",
   "execution_count": 25,
   "metadata": {},
   "outputs": [
    {
     "data": {
      "text/plain": [
       "array([0, 0, 0, ..., 0, 0, 0], dtype=int64)"
      ]
     },
     "execution_count": 25,
     "metadata": {},
     "output_type": "execute_result"
    }
   ],
   "source": [
    "# А можно классы \n",
    "model.predict_classes(X_test)"
   ]
  },
  {
   "cell_type": "code",
   "execution_count": 26,
   "metadata": {},
   "outputs": [
    {
     "data": {
      "text/plain": [
       "0.9408596189427122"
      ]
     },
     "execution_count": 26,
     "metadata": {},
     "output_type": "execute_result"
    }
   ],
   "source": [
    "# Можно найти logloss \n",
    "log_loss(y_test,model.predict_proba(X_test))"
   ]
  },
  {
   "cell_type": "code",
   "execution_count": 27,
   "metadata": {},
   "outputs": [],
   "source": [
    "# Можно сохранить модель\n",
    "model.save(\"weights.h5\")"
   ]
  },
  {
   "cell_type": "code",
   "execution_count": 28,
   "metadata": {},
   "outputs": [
    {
     "data": {
      "text/plain": [
       "[0.9408596338424797, 0.6170969]"
      ]
     },
     "execution_count": 28,
     "metadata": {},
     "output_type": "execute_result"
    }
   ],
   "source": [
    "# Можно посмотреть на качество модели по всем указанным при коммпиляции метрикам. \n",
    "score = model.evaluate(X_test, to_categorical(y_test), verbose=0)\n",
    "score "
   ]
  },
  {
   "cell_type": "markdown",
   "metadata": {},
   "source": [
    "Модель сходится довольно плохо. Функция потерь на валидации со временем начинает скакать. __Как думаете, с чем это связано?__\n",
    "\n",
    "----------------------------------"
   ]
  },
  {
   "cell_type": "markdown",
   "metadata": {},
   "source": [
    "__Ответ:__ Вспомним про такую замечательную штуку как нормальзация и посмотрим насколько она улучшит скорость обучения и качество модели."
   ]
  },
  {
   "cell_type": "code",
   "execution_count": 111,
   "metadata": {},
   "outputs": [],
   "source": [
    "from sklearn.preprocessing import StandardScaler\n",
    "scaler = StandardScaler()\n",
    "\n",
    "X_train = scaler.fit_transform(X_train)\n",
    "X_test = scaler.transform(X_test)"
   ]
  },
  {
   "cell_type": "markdown",
   "metadata": {},
   "source": [
    "Обучаем модель на нормализованных данных. Попробуем учить подольше. Так сказать: двойной удар по сходимости. "
   ]
  },
  {
   "cell_type": "code",
   "execution_count": 112,
   "metadata": {},
   "outputs": [],
   "source": [
    "model = get_new_model( )  # Эпох стало 300 вместо 100\n",
    "hist = model.fit(X_train, to_categorical(y_train), validation_split=0.2, epochs=30, verbose=0)"
   ]
  },
  {
   "cell_type": "code",
   "execution_count": 113,
   "metadata": {},
   "outputs": [
    {
     "data": {
      "text/plain": [
       "<matplotlib.legend.Legend at 0x1ff43a63988>"
      ]
     },
     "execution_count": 113,
     "metadata": {},
     "output_type": "execute_result"
    },
    {
     "data": {
      "image/png": "[encoded data removed]",
      "text/plain": [
       "<Figure size 432x288 with 1 Axes>"
      ]
     },
     "metadata": {
      "needs_background": "light"
     },
     "output_type": "display_data"
    }
   ],
   "source": [
    "start = 0\n",
    "plt.plot(hist.history['loss'][start:])\n",
    "plt.plot(hist.history['val_loss'][start:])\n",
    "plt.legend(['Train loss', 'Validation loss'])"
   ]
  },
  {
   "cell_type": "code",
   "execution_count": 32,
   "metadata": {},
   "outputs": [
    {
     "data": {
      "text/plain": [
       "[0.8492662781773548, 0.6530116]"
      ]
     },
     "execution_count": 32,
     "metadata": {},
     "output_type": "execute_result"
    }
   ],
   "source": [
    "score = model.evaluate(X_test, to_categorical(y_test), verbose=0)\n",
    "score "
   ]
  },
  {
   "cell_type": "markdown",
   "metadata": {},
   "source": [
    "Качество нашей модели на валидационных данных достигает пика после определенного количества эпох, а затем начинает снижаться. Это происходит из-за того, что модель начинает __переобучаться.__ Очень важно знать способы как можно предотвратить это. Переобученая модель просто запоминает выборку. Нам бы хотелось, чтобы она обобщала закономерности и адекватно вела себа на новых данных.\n",
    "\n",
    "Обратным случаем переобучения является __недообучение.__ Оно возникает, когда все еще есть возможность улучшить показатели модели на проверочном наборе данных. Недообучение может произойти по разным причинам: например, если модель недостаточно сильная, или слишком сложная, или просто недостаточно тренировалась на данных. В любом случае это будет означать, что не были выучены основные паттерны из проверочного сета. Нам нужно найти золотую середину.\n",
    "\n",
    "Чтобы избежать переобучения, наиболее оптимальным решением будет использовать больше тренировочных данных. Модели, обученные на большем количестве данных, естественным образом обобщают их лучше. Если возможность раздобыть ещё данных исчерпана, можно использовать методы регуляризации. Они ограничивают количество и тип инофрмации, которые модель может хранить в себе. Если нейросеть может запомнить только небольшое количество паттернов, то тогда процесс оптимизации заставит ее сфокусироваться на самых важных, наиболее заметных шаблонах, которые будут иметь более высокий шанс обобщения. __Попробуем дать переобучению бой!__"
   ]
  },
  {
   "cell_type": "markdown",
   "metadata": {},
   "source": [
    "## Различные воспитательные трюки \n",
    "\n",
    "1. Начните с маленькой сети. Не забывайте прикидывать сколько наблдюдений $n$ тратится на оценку каждого из $k$ параметров. Если величина $\\frac{n}{k}$ очень маленькая, то не может идти речи об адекватных оценках параметров!  \n",
    "2. Всегда оставляйте часть выборки под валидацию на каждой эпохе.\n",
    "3. Усложняйте модель, пока качество на валидации не начнёт падать.\n",
    "4. Не забывайте проскалировать ваши наблюдения для лучшей сходимости. \n",
    "5. Можно попробовать ещё целую серию различных **трюков**: \n",
    "\n",
    "\n",
    "* __Архитектура нейросети__\n",
    "    * Больше/меньше нейронов\n",
    "    * Больше/меньше слоёв \n",
    "    * Другие функции активации (tanh, relu, leaky relu, elu etc) \n",
    "    * Регуляризация (dropout, l1,l2) \n",
    "\n",
    "\n",
    "* __Более качественная оптимизация__  \n",
    "    * Можно попробовать выбрать другой метод оптимизации \n",
    "    * Можно попробовать менять скорость обучения, моментум и др.\n",
    "    * Разные начальные значения весов\n",
    "\n",
    "\n",
    "* __Попробовать собрать больше данных__ \n",
    "* __Для случая картинок объёмы данных можно увеличить искусственно с помощью подхода, который называется Data augmemntation, но об этом позже__\n",
    "\n",
    "И это далеко не полный список. Обратите внимание, что делать grid_search для больших сеток это довольно времязатратное занятие... "
   ]
  },
  {
   "cell_type": "markdown",
   "metadata": {},
   "source": [
    "## 4. Эксперименты \n",
    "\n",
    "Наверняка, у каждого в голове возникла какая-то классная идея по улучшению нашей базовой архитектуры. Пора реализовать её! Если идей нет, попробуйте: \n",
    "\n",
    "- Поменять функции активации на elu или сигмоиды\n",
    "- Увеличить размер архитектуры \n",
    "- Увеличить или уменьшить вероятность дропауте\n",
    "\n",
    "Не забывайте сохранять историю обучения и закидывать её на наш график для сравнения. Когда надоест, посмотрите на итоговое качество модели на тесте. А то по валидации и переобучиться можно :) "
   ]
  },
  {
   "cell_type": "code",
   "execution_count": 48,
   "metadata": {},
   "outputs": [],
   "source": [
    "# Ваши эксперименты и код для них! "
   ]
  },
  {
   "cell_type": "markdown",
   "metadata": {},
   "source": [
    " "
   ]
  }
 ],
 "metadata": {
  "kernelspec": {
   "display_name": "Python 3 (ipykernel)",
   "language": "python",
   "name": "python3"
  },
  "language_info": {
   "codemirror_mode": {
    "name": "ipython",
    "version": 3
   },
   "file_extension": ".py",
   "mimetype": "text/x-python",
   "name": "python",
   "nbconvert_exporter": "python",
   "pygments_lexer": "ipython3",
   "version": "3.8.12"
  },
  "toc": {
   "base_numbering": 1,
   "nav_menu": {},
   "number_sections": true,
   "sideBar": true,
   "skip_h1_title": false,
   "title_cell": "Table of Contents",
   "title_sidebar": "Contents",
   "toc_cell": false,
   "toc_position": {},
   "toc_section_display": true,
   "toc_window_display": false
  },
  "varInspector": {
   "cols": {
    "lenName": 16,
    "lenType": 16,
    "lenVar": 40
   },
   "kernels_config": {
    "python": {
     "delete_cmd_postfix": "",
     "delete_cmd_prefix": "del ",
     "library": "var_list.py",
     "varRefreshCmd": "print(var_dic_list())"
    },
    "r": {
     "delete_cmd_postfix": ") ",
     "delete_cmd_prefix": "rm(",
     "library": "var_list.r",
     "varRefreshCmd": "cat(var_dic_list()) "
    }
   },
   "types_to_exclude": [
    "module",
    "function",
    "builtin_function_or_method",
    "instance",
    "_Feature"
   ],
   "window_display": false
  }
 },
 "nbformat": 4,
 "nbformat_minor": 2
}
